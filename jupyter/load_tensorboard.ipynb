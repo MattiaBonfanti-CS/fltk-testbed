{
 "cells": [
  {
   "cell_type": "code",
   "execution_count": null,
   "metadata": {
    "pycharm": {
     "name": "#%%\n"
    }
   },
   "outputs": [],
   "source": [
    "#!pip install tensorboard tensorflow pandas\n",
    "\n",
    "\"\"\"\n",
    "If tensorboard is not installed (or other dependencies, such as tensorflow and pandas),\n",
    "uncomment the command in top and re-run. This needs only to be run once in a Jupyter kernel.\n",
    "\"\"\"\n",
    "\n",
    "%load_ext tensorboard\n",
    "\n",
    "from tensorflow.python.summary.summary_iterator import summary_iterator\n",
    "import pandas as pd"
   ]
  },
  {
   "cell_type": "code",
   "execution_count": null,
   "metadata": {
    "pycharm": {
     "name": "#%%\n"
    }
   },
   "outputs": [],
   "source": [
    "\"\"\"\n",
    "Change the LOG_DIR argument to point to the correct directory, you may want to use an\n",
    "absolute path if you run into issues.\n",
    "\"\"\"\n",
    "%tensorboard --logdir ../logging"
   ]
  },
  {
   "cell_type": "code",
   "execution_count": null,
   "metadata": {
    "pycharm": {
     "name": "#%%\n"
    }
   },
   "outputs": [],
   "source": [
    "def logs_to_pandas(path: str) -> pd.DataFrame:\n",
    "    \"\"\"convert single tensorflow log file to pandas DataFrame\n",
    "    Parameters\n",
    "    ----------\n",
    "    path : str\n",
    "        path to tensorflow log file\n",
    "    Returns\n",
    "    -------\n",
    "    pd.DataFrame\n",
    "        converted dataframe\n",
    "    \"\"\"\n",
    "\n",
    "    runlog_data = pd.DataFrame({\"metric\": [], \"value\": [], \"step\": [], \"wall_time\": []})\n",
    "    try:\n",
    "        event_acc = summary_iterator(path)\n",
    "        for event in list(event_acc)[1:]:\n",
    "            step, wall_time = event.step, pd.to_datetime(event.wall_time, unit='s')\n",
    "            simple_extractor = [{\"metric\": v.tag, \"value\": v.simple_value, \"step\": step, 'wall_time': wall_time} for v in event.summary.value]\n",
    "            event_r = pd.DataFrame(simple_extractor)\n",
    "            runlog_data = pd.concat([runlog_data, event_r])\n",
    "    # Dirty catch of DataLossError\n",
    "    except Exception as e:\n",
    "        print(\"Event file possibly corrupt: {}\".format(path))\n",
    "        print(e)\n",
    "    return runlog_data"
   ]
  },
  {
   "cell_type": "code",
   "execution_count": null,
   "metadata": {
    "pycharm": {
     "name": "#%%\n"
    }
   },
   "outputs": [],
   "source": [
    "path = \"../logging/cloud_experiment_0_FashionMNISTCNN_ee232974-dcde-4977-8f3d-40bf1accabb2/events.out.tfevents.1632814874.not-ubuntu.74346.0\"\n",
    "\n",
    "logs_to_pandas(path)"
   ]
  }
 ],
 "metadata": {
  "kernelspec": {
   "display_name": "Python 3 (ipykernel)",
   "language": "python",
   "name": "python3"
  },
  "language_info": {
   "codemirror_mode": {
    "name": "ipython",
    "version": 3
   },
   "file_extension": ".py",
   "mimetype": "text/x-python",
   "name": "python",
   "nbconvert_exporter": "python",
   "pygments_lexer": "ipython3",
   "version": "3.9.14"
  }
 },
 "nbformat": 4,
 "nbformat_minor": 1
}
